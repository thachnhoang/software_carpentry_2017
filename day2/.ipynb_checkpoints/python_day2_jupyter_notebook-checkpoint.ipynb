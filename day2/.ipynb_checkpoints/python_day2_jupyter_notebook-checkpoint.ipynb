{
 "cells": [
  {
   "cell_type": "code",
   "execution_count": 3,
   "metadata": {
    "collapsed": true
   },
   "outputs": [],
   "source": [
    "def celsius_fahrenheit():\n",
    "    # F = (C*9/5)+32\n",
    "    fahrenheit = (22*9/5)+32\n",
    "    print (fahrenheit)\n",
    "    return fahrenheit"
   ]
  },
  {
   "cell_type": "code",
   "execution_count": 4,
   "metadata": {
    "collapsed": false
   },
   "outputs": [
    {
     "name": "stdout",
     "output_type": "stream",
     "text": [
      "71.6\n"
     ]
    },
    {
     "data": {
      "text/plain": [
       "71.6"
      ]
     },
     "execution_count": 4,
     "metadata": {},
     "output_type": "execute_result"
    }
   ],
   "source": [
    "celsius_fahrenheit()"
   ]
  },
  {
   "cell_type": "code",
   "execution_count": 5,
   "metadata": {
    "collapsed": true
   },
   "outputs": [],
   "source": [
    "def celsius_fahrenheit(C):\n",
    "    # F = (C*9/5)+32\n",
    "    fahrenheit = (C*9/5)+32\n",
    "    print (fahrenheit)\n",
    "    return fahrenheit"
   ]
  },
  {
   "cell_type": "code",
   "execution_count": 6,
   "metadata": {
    "collapsed": false
   },
   "outputs": [
    {
     "ename": "TypeError",
     "evalue": "celsius_fahrenheit() missing 1 required positional argument: 'C'",
     "output_type": "error",
     "traceback": [
      "\u001b[0;31m---------------------------------------------------------------------------\u001b[0m",
      "\u001b[0;31mTypeError\u001b[0m                                 Traceback (most recent call last)",
      "\u001b[0;32m<ipython-input-6-b76cf3b6336a>\u001b[0m in \u001b[0;36m<module>\u001b[0;34m()\u001b[0m\n\u001b[0;32m----> 1\u001b[0;31m \u001b[0mcelsius_fahrenheit\u001b[0m\u001b[1;33m(\u001b[0m\u001b[1;33m)\u001b[0m\u001b[1;33m\u001b[0m\u001b[0m\n\u001b[0m",
      "\u001b[0;31mTypeError\u001b[0m: celsius_fahrenheit() missing 1 required positional argument: 'C'"
     ]
    }
   ],
   "source": [
    "celsius_fahrenheit()"
   ]
  },
  {
   "cell_type": "code",
   "execution_count": 7,
   "metadata": {
    "collapsed": false
   },
   "outputs": [
    {
     "name": "stdout",
     "output_type": "stream",
     "text": [
      "212.0\n"
     ]
    },
    {
     "data": {
      "text/plain": [
       "212.0"
      ]
     },
     "execution_count": 7,
     "metadata": {},
     "output_type": "execute_result"
    }
   ],
   "source": [
    "celsius_fahrenheit(100)"
   ]
  },
  {
   "cell_type": "code",
   "execution_count": 8,
   "metadata": {
    "collapsed": true
   },
   "outputs": [],
   "source": [
    "#make function to convert F to C"
   ]
  },
  {
   "cell_type": "code",
   "execution_count": 9,
   "metadata": {
    "collapsed": true
   },
   "outputs": [],
   "source": [
    "def fahrenheit_celsius(F):\n",
    "    # F = (C*9/5)+32\n",
    "    celsius = (F-32)*5/9\n",
    "    return celsius"
   ]
  },
  {
   "cell_type": "code",
   "execution_count": 10,
   "metadata": {
    "collapsed": false
   },
   "outputs": [
    {
     "data": {
      "text/plain": [
       "37.77777777777778"
      ]
     },
     "execution_count": 10,
     "metadata": {},
     "output_type": "execute_result"
    }
   ],
   "source": [
    "fahrenheit_celsius(100)"
   ]
  },
  {
   "cell_type": "code",
   "execution_count": 11,
   "metadata": {
    "collapsed": true
   },
   "outputs": [],
   "source": [
    "import pandas as pd"
   ]
  },
  {
   "cell_type": "code",
   "execution_count": 12,
   "metadata": {
    "collapsed": true
   },
   "outputs": [],
   "source": [
    "dem_health_data = pd.read_csv(\"Dem_Health_Full.txt\", sep=\"\\t\")"
   ]
  },
  {
   "cell_type": "code",
   "execution_count": 13,
   "metadata": {
    "collapsed": false
   },
   "outputs": [
    {
     "data": {
      "text/html": [
       "<div>\n",
       "<table border=\"1\" class=\"dataframe\">\n",
       "  <thead>\n",
       "    <tr style=\"text-align: right;\">\n",
       "      <th></th>\n",
       "      <th>County</th>\n",
       "      <th>State</th>\n",
       "      <th>Population_Density</th>\n",
       "      <th>Poverty</th>\n",
       "      <th>Infant_Mortality</th>\n",
       "      <th>Suicide</th>\n",
       "      <th>Total_Births</th>\n",
       "      <th>Total_Deaths</th>\n",
       "    </tr>\n",
       "  </thead>\n",
       "  <tbody>\n",
       "    <tr>\n",
       "      <th>0</th>\n",
       "      <td>Autauga</td>\n",
       "      <td>AL</td>\n",
       "      <td>82</td>\n",
       "      <td>10.4</td>\n",
       "      <td>5.9</td>\n",
       "      <td>16.6</td>\n",
       "      <td>3048.0</td>\n",
       "      <td>1867.0</td>\n",
       "    </tr>\n",
       "    <tr>\n",
       "      <th>1</th>\n",
       "      <td>Baldwin</td>\n",
       "      <td>AL</td>\n",
       "      <td>102</td>\n",
       "      <td>10.2</td>\n",
       "      <td>7.1</td>\n",
       "      <td>14.3</td>\n",
       "      <td>5471.0</td>\n",
       "      <td>4388.0</td>\n",
       "    </tr>\n",
       "    <tr>\n",
       "      <th>2</th>\n",
       "      <td>Barbour</td>\n",
       "      <td>AL</td>\n",
       "      <td>32</td>\n",
       "      <td>22.1</td>\n",
       "      <td>7.1</td>\n",
       "      <td>10.3</td>\n",
       "      <td>1835.0</td>\n",
       "      <td>1538.0</td>\n",
       "    </tr>\n",
       "    <tr>\n",
       "      <th>3</th>\n",
       "      <td>Bibb</td>\n",
       "      <td>AL</td>\n",
       "      <td>35</td>\n",
       "      <td>16.8</td>\n",
       "      <td>9.8</td>\n",
       "      <td>14.8</td>\n",
       "      <td>2801.0</td>\n",
       "      <td>2012.0</td>\n",
       "    </tr>\n",
       "    <tr>\n",
       "      <th>4</th>\n",
       "      <td>Blount</td>\n",
       "      <td>AL</td>\n",
       "      <td>86</td>\n",
       "      <td>11.9</td>\n",
       "      <td>9.0</td>\n",
       "      <td>14.4</td>\n",
       "      <td>3318.0</td>\n",
       "      <td>2453.0</td>\n",
       "    </tr>\n",
       "  </tbody>\n",
       "</table>\n",
       "</div>"
      ],
      "text/plain": [
       "    County State  Population_Density  Poverty  Infant_Mortality  Suicide  \\\n",
       "0  Autauga    AL                  82     10.4               5.9     16.6   \n",
       "1  Baldwin    AL                 102     10.2               7.1     14.3   \n",
       "2  Barbour    AL                  32     22.1               7.1     10.3   \n",
       "3     Bibb    AL                  35     16.8               9.8     14.8   \n",
       "4   Blount    AL                  86     11.9               9.0     14.4   \n",
       "\n",
       "   Total_Births  Total_Deaths  \n",
       "0        3048.0        1867.0  \n",
       "1        5471.0        4388.0  \n",
       "2        1835.0        1538.0  \n",
       "3        2801.0        2012.0  \n",
       "4        3318.0        2453.0  "
      ]
     },
     "execution_count": 13,
     "metadata": {},
     "output_type": "execute_result"
    }
   ],
   "source": [
    "dem_health_data.head()"
   ]
  },
  {
   "cell_type": "code",
   "execution_count": null,
   "metadata": {
    "collapsed": true
   },
   "outputs": [],
   "source": []
  }
 ],
 "metadata": {
  "kernelspec": {
   "display_name": "Python 3",
   "language": "python",
   "name": "python3"
  },
  "language_info": {
   "codemirror_mode": {
    "name": "ipython",
    "version": 3
   },
   "file_extension": ".py",
   "mimetype": "text/x-python",
   "name": "python",
   "nbconvert_exporter": "python",
   "pygments_lexer": "ipython3",
   "version": "3.6.0"
  }
 },
 "nbformat": 4,
 "nbformat_minor": 2
}
